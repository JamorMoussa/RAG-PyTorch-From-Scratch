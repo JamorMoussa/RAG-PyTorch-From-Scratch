{
 "cells": [
  {
   "cell_type": "markdown",
   "id": "f4ac84e1-652a-459c-bc15-f3ab827b639c",
   "metadata": {},
   "source": [
    "# 00. RAG from scratch using PyTorch"
   ]
  }
 ],
 "metadata": {
  "kernelspec": {
   "display_name": "Python 3 (ipykernel)",
   "language": "python",
   "name": "python3"
  },
  "language_info": {
   "codemirror_mode": {
    "name": "ipython",
    "version": 3
   },
   "file_extension": ".py",
   "mimetype": "text/x-python",
   "name": "python",
   "nbconvert_exporter": "python",
   "pygments_lexer": "ipython3",
   "version": "3.11.6"
  }
 },
 "nbformat": 4,
 "nbformat_minor": 5
}
