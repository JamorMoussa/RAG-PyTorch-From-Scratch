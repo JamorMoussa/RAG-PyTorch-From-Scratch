{
 "cells": [
  {
   "cell_type": "markdown",
   "id": "f4ac84e1-652a-459c-bc15-f3ab827b639c",
   "metadata": {},
   "source": [
    "# RAG from scratch using PyTorch"
   ]
  },
  {
   "cell_type": "markdown",
   "id": "c44c23d5-d062-442e-9731-c5f225879bbd",
   "metadata": {},
   "source": [
    "this project uses PyTorch to build a **RAG** pipeline from scratch.\n",
    "\n",
    "Excellent frameworks, such as [LangChain](https://python.langchain.com/v0.2/docs/introduction/) and [LamaIndex](https://docs.llamaindex.ai/en/stable/), facilitate work with LLMs and help build this kind of pipeline. But our goal is to create everything from scratch."
   ]
  },
  {
   "cell_type": "markdown",
   "id": "91c16585-29be-4b59-8a71-77a5f74d8c6f",
   "metadata": {},
   "source": [
    "## 01. Retrieval Autgmented Generation (RAG)"
   ]
  },
  {
   "cell_type": "markdown",
   "id": "8516b5ff-3f98-4cbd-a51b-9ea2b52ca7c8",
   "metadata": {},
   "source": [
    "### 1.1 What's RAG? "
   ]
  },
  {
   "cell_type": "markdown",
   "id": "01f47a4c-41a2-43ec-adee-d9ecfcea17f8",
   "metadata": {},
   "source": [
    "**RAG** stands for **Retrieval Autgmented Generation**.\n",
    "\n",
    "The paper introduced it as [*Retrieval-Augmented Generation for Knowledge-Intensive NLP Tasks*](https://arxiv.org/pdf/2005.11401) from Facebook AI research.\n",
    "\n",
    "Let's break **RAG** down:\n",
    "\n",
    "* **Retrieval** - Seeking relevant information given a query within a database and, for example, getting relevant passages from Wikipedia texts when given a question.\n",
    "* **Augmented** - Using the relevant retrieved information to modify the input (prompts) to a generative model (e.g., LLMs).\n",
    "* **Generation** - Generating output given the augmented input; this is done using a generative model, e.g. LLMs."
   ]
  },
  {
   "cell_type": "markdown",
   "id": "52289c03-9bb5-48f8-8b34-d40c1edf5497",
   "metadata": {},
   "source": [
    "## 1.2 Why RAG is important?"
   ]
  },
  {
   "cell_type": "code",
   "execution_count": 6,
   "id": "b6633549-2431-4526-a6d4-a463826aa14b",
   "metadata": {},
   "outputs": [],
   "source": [
    "# comming soon."
   ]
  }
 ],
 "metadata": {
  "kernelspec": {
   "display_name": "Python 3 (ipykernel)",
   "language": "python",
   "name": "python3"
  },
  "language_info": {
   "codemirror_mode": {
    "name": "ipython",
    "version": 3
   },
   "file_extension": ".py",
   "mimetype": "text/x-python",
   "name": "python",
   "nbconvert_exporter": "python",
   "pygments_lexer": "ipython3",
   "version": "3.11.6"
  }
 },
 "nbformat": 4,
 "nbformat_minor": 5
}
